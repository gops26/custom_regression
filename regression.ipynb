import numpy as np
import matplotlib.pyplot as plt


def custom_regression(arr:np.array, learning_rate:int=0.001,iterations:int=1):
  m = 0
  b= 0
  x= arr[0]
  y=arr[1]
  n = len(x)
  for i in range(iterations):
    y_predicted = m*x+b

    dm = -(2/n)* sum(x*(y - y_predicted))
    db = -(2/n)* sum(y - y_predicted)

    m = m - learning_rate * dm
    b = m - learning_rate * db

  return m,b



arr = np.array([[1,2,3,4,5,6,7,8,9,10,11,12,13,14,15,16,17,18,19,20],[2,4,4,3,12,12,13,14,12,14,11,15,13,19,21,21,15,19,15,25]])
m,b = custom_regression(arr,iterations=14)

plt.scatter(x=arr[0], y=arr[1])
plt.plot(arr[0],m*arr[0]+b, color='red')
